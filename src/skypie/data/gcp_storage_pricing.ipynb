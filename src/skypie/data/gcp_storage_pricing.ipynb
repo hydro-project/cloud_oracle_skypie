{
 "cells": [
  {
   "cell_type": "code",
   "execution_count": 1,
   "metadata": {},
   "outputs": [],
   "source": [
    "import pandas as pd"
   ]
  },
  {
   "cell_type": "code",
   "execution_count": 3,
   "metadata": {},
   "outputs": [],
   "source": [
    "df_gcp = pd.read_csv(\"storage_pricing_gcp.csv\")\n",
    "df_network = pd.read_csv(\"network_cost_v2.csv\")\n",
    "df_storage = pd.read_csv(\"storage_pricing.csv\")"
   ]
  },
  {
   "cell_type": "code",
   "execution_count": 4,
   "metadata": {},
   "outputs": [],
   "source": [
    "# Patch in prices for: put, get, get transfer, put transfer\n",
    "\n",
    "# Fixed prices per storage tier\n",
    "fixed_prices = {\n",
    "    \"Standard Storage\": {\n",
    "        \"put request\": 0.005/1000,\n",
    "        \"get request\": 0.0004/1000,\n",
    "        \"get transfer\": 0.0,\n",
    "        \"put transfer\": 0.0,\n",
    "    },\n",
    "    \"Nearline Storage\" : {\n",
    "        \"put request\": 0.01/1000,\n",
    "        \"get request\": 0.001/1000,\n",
    "        \"get transfer\": 0.01,\n",
    "        \"put transfer\": 0.01,\n",
    "    },\n",
    "    \"Coldline Storage\" : {\n",
    "        \"put request\": 0.02/1000,\n",
    "        \"get request\": 0.01/1000,\n",
    "        \"get transfer\": 0.02,\n",
    "        \"put transfer\": 0.02,\n",
    "    },\n",
    "}\n",
    "\n",
    "df_gcp[\"Group\"] = \"storage\"\n",
    "# StartingRange,EndingRange\n",
    "df_gcp[\"StartingRange\"] = 0\n",
    "df_gcp[\"EndingRange\"] = float(\"inf\")\n",
    "\n",
    "# Patch in prices for: put, get, get transfer, put transfer\n",
    "# Create new rows for fixed prices\n",
    "new_records = []\n",
    "for storage_tier in fixed_prices:\n",
    "    for row in df_gcp[(df_gcp[\"Tier\"] == storage_tier) & (df_gcp[\"Name\"] == \"gcs\")].iterrows():\n",
    "        #display(row[1])\n",
    "        row = row[1]\n",
    "\n",
    "        # Record for storage price from file\n",
    "        new_records.append({\n",
    "            \"Vendor\": row[\"Vendor\"],\n",
    "            \"Name\": row[\"Name\"],\n",
    "            \"Region\": row[\"Region\"],\n",
    "            \"Group\": \"storage\",\n",
    "            \"Tier\": storage_tier,\n",
    "            \"Unit\": float(\"NaN\"),\n",
    "            \"StartingRange\": 0,\n",
    "            \"EndingRange\": float(\"inf\"),\n",
    "            \"PricePerUnit\": row[\"PricePerUnit\"],\n",
    "        })\n",
    "\n",
    "        # Record for other prices from dict\n",
    "        for price_type in fixed_prices[storage_tier]:\n",
    "            new_records.append({\n",
    "                \"Vendor\": row[\"Vendor\"],\n",
    "                \"Name\": row[\"Name\"],\n",
    "                \"Region\": row[\"Region\"],\n",
    "                \"Group\": price_type,\n",
    "                \"Tier\": storage_tier,\n",
    "                \"Unit\": float(\"NaN\"),\n",
    "                \"StartingRange\": 0,\n",
    "                \"EndingRange\": float(\"inf\"),\n",
    "                \"PricePerUnit\": fixed_prices[storage_tier][price_type],\n",
    "            })\n",
    "\n",
    "df_new = pd.DataFrame(new_records)\n",
    "df_storage_concat = pd.concat([df_storage, df_new], ignore_index=True)\n",
    "df_storage_concat.to_csv(\"storage_pricing.csv\", index=False)"
   ]
  },
  {
   "cell_type": "code",
   "execution_count": 13,
   "metadata": {},
   "outputs": [
    {
     "data": {
      "text/plain": [
       "set()"
      ]
     },
     "metadata": {},
     "output_type": "display_data"
    },
    {
     "data": {
      "text/plain": [
       "set()"
      ]
     },
     "metadata": {},
     "output_type": "display_data"
    }
   ],
   "source": [
    "storage_gcp_region = set(df_gcp[\"Region\"].unique())\n",
    "network_gcp_dest_region = set(df_network[df_network[\"dest_vendor\"] == \"gcp\"][\"dest_region\"].unique())\n",
    "\n",
    "missing_storage_gcp_region = storage_gcp_region - network_gcp_dest_region\n",
    "missing_network_gcp_region = network_gcp_dest_region - storage_gcp_region\n",
    "display(missing_storage_gcp_region)\n",
    "display(missing_network_gcp_region)"
   ]
  }
 ],
 "metadata": {
  "kernelspec": {
   "display_name": "Python 3",
   "language": "python",
   "name": "python3"
  },
  "language_info": {
   "codemirror_mode": {
    "name": "ipython",
    "version": 3
   },
   "file_extension": ".py",
   "mimetype": "text/x-python",
   "name": "python",
   "nbconvert_exporter": "python",
   "pygments_lexer": "ipython3",
   "version": "3.9.10"
  }
 },
 "nbformat": 4,
 "nbformat_minor": 2
}
